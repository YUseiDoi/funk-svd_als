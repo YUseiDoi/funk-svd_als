{
  "nbformat": 4,
  "nbformat_minor": 0,
  "metadata": {
    "colab": {
      "provenance": [],
      "authorship_tag": "ABX9TyM+TTv2T1s6G1tco9GfDf5J",
      "include_colab_link": true
    },
    "kernelspec": {
      "name": "python3",
      "display_name": "Python 3"
    },
    "language_info": {
      "name": "python"
    }
  },
  "cells": [
    {
      "cell_type": "markdown",
      "metadata": {
        "id": "view-in-github",
        "colab_type": "text"
      },
      "source": [
        "<a href=\"https://colab.research.google.com/github/YUseiDoi/funk-svd_als/blob/main/funk_svd_als.ipynb\" target=\"_parent\"><img src=\"https://colab.research.google.com/assets/colab-badge.svg\" alt=\"Open In Colab\"/></a>"
      ]
    },
    {
      "cell_type": "markdown",
      "source": [
        "# 行列分解のアルゴリズムである Funk-SVD, ALS の実装"
      ],
      "metadata": {
        "id": "zwqkgkSFCNti"
      }
    },
    {
      "cell_type": "code",
      "execution_count": 2,
      "metadata": {
        "id": "tw75GgAyPb4x"
      },
      "outputs": [],
      "source": [
        "import numpy as np\n",
        "import pandas as pd\n",
        "import matplotlib.pyplot as plt\n",
        "import random"
      ]
    },
    {
      "cell_type": "code",
      "source": [
        "user_num = 100\n",
        "item_num = 20\n",
        "ratings = np.zeros([user_num, item_num])  # 100 x 1000の評価値行列を作成\n",
        "ratings[:,:] = np.nan\n",
        "\n",
        "# 擬似的に評価値（nan, 1～5）行列を作成\n",
        "for i in range(user_num):\n",
        "  for j in range(item_num):\n",
        "    if random.random() > 0.5:\n",
        "      ratings[i, j] = int(random.random() * 5) + 1\n",
        "\n",
        "ratings"
      ],
      "metadata": {
        "colab": {
          "base_uri": "https://localhost:8080/"
        },
        "id": "3QdJSxNBQTXI",
        "outputId": "c3dea8bf-501b-4c9d-b029-0a2a21581047"
      },
      "execution_count": 3,
      "outputs": [
        {
          "output_type": "execute_result",
          "data": {
            "text/plain": [
              "array([[ 3.,  3.,  2., ...,  1.,  5.,  2.],\n",
              "       [ 2.,  4., nan, ...,  2.,  3., nan],\n",
              "       [nan, nan, nan, ...,  3.,  2., nan],\n",
              "       ...,\n",
              "       [nan,  1.,  4., ..., nan, nan,  1.],\n",
              "       [nan,  4.,  4., ..., nan,  5.,  1.],\n",
              "       [nan,  1., nan, ...,  3.,  2., nan]])"
            ]
          },
          "metadata": {},
          "execution_count": 3
        }
      ]
    },
    {
      "cell_type": "code",
      "source": [
        "# 評価関数\n",
        "def calc_mse(P, Q, R):\n",
        "  mse = []\n",
        "  for (u, i), r_ui in np.ndenumerate(R):\n",
        "    if not np.isnan(r_ui):\n",
        "      mse.append((r_ui - np.dot(P[:, u], Q[:, i])) ** 2)\n",
        "  return np.mean(mse)"
      ],
      "metadata": {
        "id": "zNuMDeu9SbVP"
      },
      "execution_count": 7,
      "outputs": []
    },
    {
      "cell_type": "code",
      "source": [
        "# 損失関数\n",
        "def calc_loss(P, Q, R):\n",
        "  loss = 0\n",
        "  for (u, i), r_ui in np.ndenumerate(R):\n",
        "    if not np.isnan(r_ui):\n",
        "      loss += (r_ui - np.dot(P[:, u], Q[:, i])) ** 2 + l_reg * (np.linalg.norm(P[:, u]) + np.linalg.norm(Q[:, i]))\n",
        "  return loss"
      ],
      "metadata": {
        "id": "1jzB_bT6pyUZ"
      },
      "execution_count": 8,
      "outputs": []
    },
    {
      "cell_type": "markdown",
      "source": [
        "# Funk-SVD"
      ],
      "metadata": {
        "id": "-g1dfHxNCc5o"
      }
    },
    {
      "cell_type": "code",
      "source": [
        "# Funk-SVD\n",
        "\n",
        "f = 10          # 潜在因子数\n",
        "alpha = 0.01    # 学習率\n",
        "l_reg = 0.1     # 正則化項の係数\n",
        "n = 1000        # ループ数\n",
        "mse_svd = []    # 学習中の評価関数\n",
        "loss_svd = []   # 学習中の損失関数\n",
        "\n",
        "# ユーザ因子行列（P），アイテム因子行列（Q）の初期化\n",
        "P = np.zeros([f, user_num])\n",
        "Q = np.zeros([f, item_num])\n",
        "\n",
        "for i in range(f):\n",
        "  for j in range(user_num):\n",
        "    P[i, j] = random.uniform(0, 1 / np.sqrt(f))\n",
        "\n",
        "for i in range(f):\n",
        "  for j in range(item_num):\n",
        "    Q[i, j] = random.uniform(0, 1 / np.sqrt(f))\n",
        "\n",
        "# 行列要素の更新\n",
        "for step in range(n):\n",
        "  for (u, i), r_ui in np.ndenumerate(ratings):\n",
        "    if not np.isnan(r_ui):\n",
        "      err_ui = r_ui - np.dot(P[:, u], Q[:, i])\n",
        "      for k in range(f):\n",
        "        P[k, u] += alpha * (Q[k, i] * err_ui - l_reg * P[k, u])\n",
        "        Q[k, i] += alpha * (P[k, u] * err_ui - l_reg * Q[k, i])\n",
        "\n",
        "  # 評価関数・損失関数\n",
        "  current_mse = calc_mse(P, Q, ratings)\n",
        "  mse_svd.append(current_mse)\n",
        "  current_loss = calc_loss(P, Q, ratings)\n",
        "  loss_svd.append(current_loss)\n",
        "  if step % 100 == 0 or step == n - 1: print(f'step: {step}, loss: {current_loss}, mse: {current_mse}')"
      ],
      "metadata": {
        "id": "FHzOX8QJQuqZ",
        "colab": {
          "base_uri": "https://localhost:8080/"
        },
        "outputId": "a5eac3d0-3074-4912-e062-7e034d0ee3a2"
      },
      "execution_count": 57,
      "outputs": [
        {
          "output_type": "stream",
          "name": "stdout",
          "text": [
            "step: 0, loss: 6318.237474637844, mse: 6.011895308816092\n",
            "step: 100, loss: 750.0159835071125, mse: 0.2728349979252713\n",
            "step: 200, loss: 683.6692317389321, mse: 0.19978811419251502\n",
            "step: 300, loss: 669.7128270532962, mse: 0.18475950652841813\n",
            "step: 400, loss: 663.6453796456799, mse: 0.1783778644258293\n",
            "step: 500, loss: 659.9796328229471, mse: 0.17449496898454048\n",
            "step: 600, loss: 657.5288408742446, mse: 0.17185973854348358\n",
            "step: 700, loss: 655.8981354821467, mse: 0.1700935880829074\n",
            "step: 800, loss: 654.808499469039, mse: 0.16891411569093717\n",
            "step: 900, loss: 654.0618623613655, mse: 0.16810888861557485\n",
            "step: 999, loss: 653.5431745937686, mse: 0.167551502303853\n"
          ]
        }
      ]
    },
    {
      "cell_type": "code",
      "source": [
        "np.dot(P[:, 0], Q[:, 0])"
      ],
      "metadata": {
        "colab": {
          "base_uri": "https://localhost:8080/"
        },
        "id": "CNIlcFT_sBVi",
        "outputId": "066cc2ea-d062-4a41-bf4b-8551349518dd"
      },
      "execution_count": 58,
      "outputs": [
        {
          "output_type": "execute_result",
          "data": {
            "text/plain": [
              "2.4246502656446167"
            ]
          },
          "metadata": {},
          "execution_count": 58
        }
      ]
    },
    {
      "cell_type": "code",
      "source": [
        "np.dot(P[:, 0], Q[:, 1])"
      ],
      "metadata": {
        "colab": {
          "base_uri": "https://localhost:8080/"
        },
        "id": "TUnWTA0BuvHr",
        "outputId": "f4d717f5-1615-4a83-f28a-86a8cc665e8f"
      },
      "execution_count": 59,
      "outputs": [
        {
          "output_type": "execute_result",
          "data": {
            "text/plain": [
              "2.456634478959396"
            ]
          },
          "metadata": {},
          "execution_count": 59
        }
      ]
    },
    {
      "cell_type": "code",
      "source": [
        "plt.plot(loss_svd)"
      ],
      "metadata": {
        "id": "pNOU9QEaLbka",
        "colab": {
          "base_uri": "https://localhost:8080/",
          "height": 447
        },
        "outputId": "40ee91a5-4c4f-4784-9b76-2f756fb3559c"
      },
      "execution_count": 60,
      "outputs": [
        {
          "output_type": "execute_result",
          "data": {
            "text/plain": [
              "[<matplotlib.lines.Line2D at 0x7f3a6d68cdc0>]"
            ]
          },
          "metadata": {},
          "execution_count": 60
        },
        {
          "output_type": "display_data",
          "data": {
            "text/plain": [
              "<Figure size 640x480 with 1 Axes>"
            ],
            "image/png": "[encoded data removed]"
          },
          "metadata": {}
        }
      ]
    },
    {
      "cell_type": "markdown",
      "source": [
        "# ALS"
      ],
      "metadata": {
        "id": "tf4u90WECfO5"
      }
    },
    {
      "cell_type": "code",
      "source": [
        "# ALS\n",
        "\n",
        "f = 10          # 潜在因子数\n",
        "l_reg = 0.01    # 正則化項の係数\n",
        "n = 1000        # ループ数\n",
        "mse_als = []    # 学習中の評価関数\n",
        "loss_als = []   # 学習中の損失関数\n",
        "\n",
        "# ユーザ因子行列（P），アイテム因子行列（Q）の初期化\n",
        "P = np.zeros([f, user_num])\n",
        "Q = np.zeros([f, item_num])\n",
        "\n",
        "\n",
        "for i in range(f):\n",
        "  for j in range(user_num):\n",
        "    P[i, j] = random.uniform(0, 1 / np.sqrt(f))\n",
        "\n",
        "for i in range(f):\n",
        "  for j in range(item_num):\n",
        "    Q[i, j] = random.uniform(0, 1 / np.sqrt(f))\n",
        "\n",
        "for step in range(n):\n",
        "    for u in range(ratings.shape[0]):\n",
        "      user_ratings_vector = np.zeros(f)\n",
        "      user_covariance_matrix = np.zeros([f, f])\n",
        "      for i in range(ratings.shape[1]):\n",
        "        if not np.isnan(ratings[u, i]):\n",
        "          user_ratings_vector += ratings[u, i] * Q[:, i]\n",
        "          user_covariance_matrix += np.outer(Q[:, i], Q[:, i])\n",
        "      user_covariance_matrix += np.eye(f) * l_reg\n",
        "      P[:, u] = np.dot(np.linalg.inv(user_covariance_matrix), user_ratings_vector.reshape(-1))\n",
        "\n",
        "    for i in range(ratings.shape[1]):\n",
        "      user_ratings_vector = np.zeros(f)\n",
        "      user_covariance_matrix = np.zeros([f, f])\n",
        "      for u in range(ratings.shape[0]):\n",
        "        if not np.isnan(ratings[u, i]):\n",
        "            user_ratings_vector += ratings[u, i] * P[:, u]\n",
        "            user_covariance_matrix += np.outer(P[:, u], P[:, u])\n",
        "      user_covariance_matrix += np.eye(f) * l_reg\n",
        "      Q[:, i] = np.dot(np.linalg.inv(user_covariance_matrix), user_ratings_vector.reshape(-1))\n",
        "\n",
        "    # 評価関数・損失関数\n",
        "    current_mse = calc_mse(P, Q, ratings)\n",
        "    mse_als.append(current_mse)\n",
        "    current_loss = calc_loss(P, Q, ratings)\n",
        "    loss_als.append(current_loss)\n",
        "    if step % 100 == 0 or step == n - 1: print(f'step: {step}, loss: {current_loss}, mse: {current_mse}')"
      ],
      "metadata": {
        "colab": {
          "base_uri": "https://localhost:8080/"
        },
        "id": "9T1EHtv2jY3N",
        "outputId": "f5b49686-4129-490e-8d0a-db0d926b0bbc"
      },
      "execution_count": 68,
      "outputs": [
        {
          "output_type": "stream",
          "name": "stdout",
          "text": [
            "step: 0, loss: 485.24048504367045, mse: 0.3096159263354365\n",
            "step: 100, loss: 86.85404747252863, mse: 0.006943890314318112\n",
            "step: 200, loss: 81.6398881937987, mse: 0.004822621340434004\n",
            "step: 300, loss: 79.87198139861745, mse: 0.0034755339164413133\n",
            "step: 400, loss: 79.21841158967766, mse: 0.0029219327645381922\n",
            "step: 500, loss: 78.64678316429033, mse: 0.0027057962095870538\n",
            "step: 600, loss: 78.05728683752055, mse: 0.0025231733896176733\n",
            "step: 700, loss: 77.55216069203397, mse: 0.0023468726429373165\n",
            "step: 800, loss: 77.16111914145874, mse: 0.0022184716082804122\n",
            "step: 900, loss: 76.848708850071, mse: 0.002132219877835402\n",
            "step: 999, loss: 76.58833938371373, mse: 0.0020673489930039765\n"
          ]
        }
      ]
    },
    {
      "cell_type": "code",
      "source": [
        "np.dot(P[:, 0], Q[:, 1])"
      ],
      "metadata": {
        "colab": {
          "base_uri": "https://localhost:8080/"
        },
        "id": "vxbrDnvDEvfO",
        "outputId": "4df1867f-b946-4b97-d5bb-1a36c1a5f42e"
      },
      "execution_count": 69,
      "outputs": [
        {
          "output_type": "execute_result",
          "data": {
            "text/plain": [
              "3.1578415953787413"
            ]
          },
          "metadata": {},
          "execution_count": 69
        }
      ]
    },
    {
      "cell_type": "code",
      "source": [
        "plt.plot(loss_als)"
      ],
      "metadata": {
        "colab": {
          "base_uri": "https://localhost:8080/",
          "height": 448
        },
        "id": "PyOokGmvEyoA",
        "outputId": "8c1669de-70a5-47c3-a164-9949ee8370c0"
      },
      "execution_count": 70,
      "outputs": [
        {
          "output_type": "execute_result",
          "data": {
            "text/plain": [
              "[<matplotlib.lines.Line2D at 0x7f3a6d6f45b0>]"
            ]
          },
          "metadata": {},
          "execution_count": 70
        },
        {
          "output_type": "display_data",
          "data": {
            "text/plain": [
              "<Figure size 640x480 with 1 Axes>"
            ],
            "image/png": "[encoded data removed]"
          },
          "metadata": {}
        }
      ]
    },
    {
      "cell_type": "code",
      "source": [],
      "metadata": {
        "id": "xd-mlUPEB6sl"
      },
      "execution_count": null,
      "outputs": []
    }
  ]
}